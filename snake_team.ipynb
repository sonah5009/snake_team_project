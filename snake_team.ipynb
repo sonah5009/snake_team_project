{
 "cells": [
  {
   "cell_type": "markdown",
   "id": "0e89643d",
   "metadata": {},
   "source": [
    "### Pygame Example"
   ]
  },
  {
   "cell_type": "markdown",
   "id": "a69ef9ac",
   "metadata": {},
   "source": [
    "#### 1. 모듈 임포트(Module import)\n",
    "설치한 pygame library 및 기타 필요한 모듈을 사용하기 위해 import합니다.\n",
    "\n",
    "Import `pygame library` and other modules to use in this code"
   ]
  },
  {
   "cell_type": "code",
   "execution_count": 1,
   "id": "e8069be7",
   "metadata": {},
   "outputs": [
    {
     "name": "stdout",
     "output_type": "stream",
     "text": [
      "pygame 2.1.2 (SDL 2.0.18, Python 3.9.7)\n",
      "Hello from the pygame community. https://www.pygame.org/contribute.html\n"
     ]
    }
   ],
   "source": [
    "# Pygame module import\n",
    "import pygame\n",
    "# 시간 확인, random 부여 등을 위한 module import\n",
    "# Modules for time checking and randomization\n",
    "import random\n",
    "import time"
   ]
  },
  {
   "cell_type": "markdown",
   "id": "6bd184a8",
   "metadata": {},
   "source": [
    "##### 1-1. 게임 사전 설정(Settings on the game)\n",
    "게임에 대한 기본적인 설정에 대한 변수 들을 미리 정의합니다.\n",
    "\n",
    "Define variables that initializes the game"
   ]
  },
  {
   "cell_type": "code",
   "execution_count": 2,
   "id": "7773b7fe",
   "metadata": {},
   "outputs": [],
   "source": [
    "# Frame 수 조절(초당 그려지는 수)\n",
    "# Framerate per seconds\n",
    "fps = 15\n",
    "\n",
    "# 창의 크기\n",
    "# Window size\n",
    "frame = (720, 480)\n",
    "\n",
    "# 색깔 정의 (Red, Green, Blue)\n",
    "# Colors (R, G, B)\n",
    "black = pygame.Color(0, 0, 0)\n",
    "white = pygame.Color(255, 255, 255)\n",
    "red = pygame.Color(255, 0, 0)\n",
    "green = pygame.Color(0, 255, 0)\n",
    "blue = pygame.Color(0, 0, 255)\n",
    "\n",
    "# 시간을 흐르게 하기 위한 FPS counter\n",
    "# FPS (frames per second) controller\n",
    "fps_controller = pygame.time.Clock()"
   ]
  },
  {
   "cell_type": "code",
   "execution_count": 3,
   "id": "b15d37cc",
   "metadata": {},
   "outputs": [],
   "source": [
    "# Game 관련 변수들\n",
    "# Game variables\n",
    "snake_pos = [100, 50]\n",
    "snake_body = [[100, 50], [100-10, 50], [100-(2*10), 50]]\n",
    "\n",
    "food_pos = [random.randrange(1, (frame[0]//10)) * 10,\n",
    "            random.randrange(1, (frame[1]//10)) * 10]\n",
    "food_spawn = True\n",
    "\n",
    "direction = 'RIGHT'\n",
    "\n",
    "score = 0"
   ]
  },
  {
   "cell_type": "markdown",
   "id": "745e03e7",
   "metadata": {
    "lines_to_next_cell": 2
   },
   "source": [
    "##### 1-2. Pygame 초기화(Initialize Pygame)\n",
    "Pygame을 사용하기 위해 창 크기, 제목 등을 주어 초기화를 해줍니다.\n",
    "만약 초기화를 실패하였다면 오류를 알려주고 종료하도록 합니다.\n",
    "함수로 만들어서 게임이 동작하기 전에 부를 수 있도록 합니다.\n",
    "\n",
    "Initialize Pygame with window size, and title.\n",
    "When initializing Pygame failed, prints error and exit program.\n",
    "Run before executing main logic of the game."
   ]
  },
  {
   "cell_type": "code",
   "execution_count": 4,
   "id": "f81af1b2",
   "metadata": {},
   "outputs": [],
   "source": [
    "def Init(size):\n",
    "    # 초기화 후 error가 일어났는지 알아봅니다.\n",
    "    # Checks for errors encountered\n",
    "    check_errors = pygame.init()\n",
    "\n",
    "    # pygame.init() example output -> (6, 0)\n",
    "    # 두번째 항목이 error의 수를 알려줍니다.\n",
    "    # second number in tuple gives number of errors\n",
    "    if check_errors[1] > 0:\n",
    "        print(\n",
    "            f'[!] Had {check_errors[1]} errors when initialising game, exiting...')\n",
    "        sys.exit(-1)\n",
    "    else:\n",
    "        print('[+] Game successfully initialised')\n",
    "\n",
    "    # pygame.display를 통해 제목, window size를 설정하고 초기화합니다.\n",
    "    # Initialise game window using pygame.display\n",
    "    pygame.display.set_caption('Snake Example with PyGame')\n",
    "    game_window = pygame.display.set_mode(size)\n",
    "    return game_window"
   ]
  },
  {
   "cell_type": "markdown",
   "id": "9828c954",
   "metadata": {
    "lines_to_next_cell": 2
   },
   "source": [
    "##### 1-3. 기본 logic 함수 모음(basic logics of the game)\n",
    "게임을 플레이하기 위해 필요한 함수들의 모음입니다.\n",
    "자세한 부분은 각 주석을 확인해주세요.\n",
    "\n",
    "This is the set of functions that are required in the game.\n",
    "You can see more details in comments on each cell."
   ]
  },
  {
   "cell_type": "code",
   "execution_count": 5,
   "id": "22630d4f",
   "metadata": {},
   "outputs": [],
   "source": [
    "# Game Over\n",
    "def game_over(window, size):\n",
    "    # 'Game Over'문구를 띄우기 위한 설정입니다.\n",
    "    # Settings of the 'Game Over' string to show on the screen\n",
    "    my_font = pygame.font.SysFont('times new roman', 90)\n",
    "    game_over_surface = my_font.render('Game Over', True, red)\n",
    "    game_over_rect = game_over_surface.get_rect()\n",
    "    game_over_rect.midtop = (size[0]/2, size[1]/4)\n",
    "\n",
    "    # window를 검은색으로 칠하고 설정했던 글자를 window에 복사합니다.\n",
    "    # Fill window as black and copy 'Game Over' strings to main window.\n",
    "    window.fill(black)\n",
    "    window.blit(game_over_surface, game_over_rect)\n",
    "\n",
    "    # 'show_score' 함수를 부릅니다.\n",
    "    # Call 'show_score' function.\n",
    "    show_score(window, size, 0, green, 'times', 20)\n",
    "\n",
    "    # 그려진 화면을 실제로 띄워줍니다.\n",
    "    # Show drawn windows to screen\n",
    "    pygame.display.flip()\n",
    "\n",
    "    # 3초 기다린 후 게임을 종료합니다.\n",
    "    # exit program after 3 seconds.\n",
    "    time.sleep(3)\n",
    "    pygame.quit()\n",
    "    sys.exit()"
   ]
  },
  {
   "cell_type": "code",
   "execution_count": 6,
   "id": "92dba022",
   "metadata": {},
   "outputs": [],
   "source": [
    "# Score\n",
    "def show_score(window, size, choice, color, font, fontsize):\n",
    "    # Score를 띄우기 위한 설정입니다.\n",
    "    # Settings for showing score on screen\n",
    "    score_font = pygame.font.SysFont(font, fontsize)\n",
    "    score_surface = score_font.render('Score : ' + str(score), True, color)\n",
    "    score_rect = score_surface.get_rect()\n",
    "\n",
    "    # Game over 상황인지 게임중 상황인지에 따라 다른 위치를 선정합니다.\n",
    "    # Select different location depending on the situation.\n",
    "    if choice == 1:\n",
    "        score_rect.midtop = (size[0]/10, 15)\n",
    "    else:\n",
    "        score_rect.midtop = (size[0]/2, size[1]/1.25)\n",
    "\n",
    "    # 설정한 글자를 window에 복사합니다.\n",
    "    # Copy the string to windows\n",
    "    window.blit(score_surface, score_rect)"
   ]
  },
  {
   "cell_type": "code",
   "execution_count": 7,
   "id": "804e0bcf",
   "metadata": {},
   "outputs": [],
   "source": [
    "# Keyboard input\n",
    "def get_keyboard(key, cur_dir):\n",
    "    # WASD, 방향키를 입력 받으면 해당 방향으로 이동합니다.\n",
    "    # 방향이 반대방향이면 무시합니다.\n",
    "    # Chnage direction using WASD or arrow key\n",
    "    # Ignore keyboard input if input key has opposite direction\n",
    "    if direction != 'DOWN' and key == pygame.K_UP or key == ord('w'):\n",
    "        return 'UP'\n",
    "    if direction != 'UP' and key == pygame.K_DOWN or key == ord('s'):\n",
    "        return 'DOWN'\n",
    "    if direction != 'RIGHT' and key == pygame.K_LEFT or key == ord('a'):\n",
    "        return 'LEFT'\n",
    "    if direction != 'LEFT' and key == pygame.K_RIGHT or key == ord('d'):\n",
    "        return 'RIGHT'\n",
    "    # 모두 해당하지 않다면 원래 방향을 돌려줍니다.\n",
    "    # Return current direction if none of keyboard input occured\n",
    "    return cur_dir"
   ]
  },
  {
   "cell_type": "markdown",
   "id": "c2d9bb38",
   "metadata": {
    "lines_to_next_cell": 2
   },
   "source": [
    "#### 2. 메인 프로그램\n",
    "Game이 동작하기 위한 메인 코드 입니다.\n",
    "\n",
    "This is main code of the game."
   ]
  },
  {
   "cell_type": "code",
   "execution_count": 8,
   "id": "e587a92b",
   "metadata": {
    "lines_to_next_cell": 2
   },
   "outputs": [
    {
     "name": "stdout",
     "output_type": "stream",
     "text": [
      "[+] Game successfully initialised\n"
     ]
    },
    {
     "ename": "SystemExit",
     "evalue": "",
     "output_type": "error",
     "traceback": [
      "An exception has occurred, use %tb to see the full traceback.\n",
      "\u001b[1;31mSystemExit\u001b[0m\n"
     ]
    },
    {
     "name": "stderr",
     "output_type": "stream",
     "text": [
      "C:\\Users\\1hade\\anaconda3\\lib\\site-packages\\IPython\\core\\interactiveshell.py:3452: UserWarning: To exit: use 'exit', 'quit', or Ctrl-D.\n",
      "  warn(\"To exit: use 'exit', 'quit', or Ctrl-D.\", stacklevel=1)\n"
     ]
    }
   ],
   "source": [
    "# 초기화합니다.\n",
    "# Initialize\n",
    "main_window = Init(frame)\n",
    "\n",
    "while True:\n",
    "    # 게임에서 event를 받아옵니다.\n",
    "    # Get event from user\n",
    "    for event in pygame.event.get():\n",
    "        # 종료시 실제로 프로그램을 종료합니다.\n",
    "        # Close program if QUIT event occured\n",
    "        if event.type == pygame.QUIT:\n",
    "            pygame.quit()\n",
    "            sys.exit()\n",
    "        elif event.type == pygame.KEYDOWN:\n",
    "            # esc 키를 눌렀을떄 종료 신호를 보냅니다.\n",
    "            # Create quit event when 'esc' key pressed\n",
    "            if event.key == pygame.K_ESCAPE:\n",
    "                pygame.event.post(pygame.event.Event(pygame.QUIT))\n",
    "            else:\n",
    "                # 입력 키로 방향을 얻어냅니다.\n",
    "                # Get direction with key\n",
    "                direction = get_keyboard(event.key, direction)\n",
    "\n",
    "    # 실제로 뱀의 위치를 옮깁니다.\n",
    "    # Move the actual snake position\n",
    "    if direction == 'UP':\n",
    "        snake_pos[1] -= 10\n",
    "    if direction == 'DOWN':\n",
    "        snake_pos[1] += 10\n",
    "    if direction == 'LEFT':\n",
    "        snake_pos[0] -= 10\n",
    "    if direction == 'RIGHT':\n",
    "        snake_pos[0] += 10\n",
    "\n",
    "    # 우선 증가시키고 음식의 위치가 아니라면 마지막을 뺍니다.\n",
    "    # Grow snake first, check if food is on sanke head(if not, delete last)\n",
    "    snake_body.insert(0, list(snake_pos))\n",
    "    if snake_pos[0] == food_pos[0] and snake_pos[1] == food_pos[1]:\n",
    "        score += 1\n",
    "        food_spawn = False\n",
    "    else:\n",
    "        snake_body.pop()\n",
    "\n",
    "    # 음식이 없다면 음식을 랜덤한 위치에 생성합니다.\n",
    "    # Spawning food on the screen with random position\n",
    "    if not food_spawn:\n",
    "        food_pos = [\n",
    "            random.randrange(1, (frame[0]//10)) * 10,\n",
    "            random.randrange(1, (frame[1]//10)) * 10\n",
    "        ]\n",
    "    food_spawn = True\n",
    "\n",
    "    # 우선 게임을 검은 색으로 채우고 뱀의 각 위치마다 그림을 그립니다.\n",
    "    # Fill the screen black and draw each position of snake\n",
    "    main_window.fill(black)\n",
    "    for pos in snake_body:\n",
    "        pygame.draw.rect(main_window, green,\n",
    "                         pygame.Rect(pos[0], pos[1], 10, 10))\n",
    "\n",
    "    # 음식을 그립니다.\n",
    "    # Draw snake food\n",
    "    pygame.draw.rect(main_window, white,\n",
    "                     pygame.Rect(food_pos[0], food_pos[1], 10, 10))\n",
    "\n",
    "    # Game Over 상태를 확인합니다.\n",
    "    # Check Game Over conditions\n",
    "\n",
    "    # 바깥 벽 처리를 합니다.\n",
    "    # Check if the snake hit the wall\n",
    "    if snake_pos[0] < 0 or snake_pos[0] > frame[0] - 10:\n",
    "        game_over(main_window, frame)\n",
    "    if snake_pos[1] < 0 or snake_pos[1] > frame[1] - 10:\n",
    "        game_over(main_window, frame)\n",
    "\n",
    "    # 뱀의 몸에 닿았는지 확인합니다.\n",
    "    # Check if the snake is hit itself\n",
    "    for block in snake_body[1:]:\n",
    "        if snake_pos[0] == block[0] and snake_pos[1] == block[1]:\n",
    "            game_over(main_window, frame)\n",
    "\n",
    "    # 점수를 띄워줍니다.\n",
    "    # Show score with defined function\n",
    "    show_score(main_window, frame, 1, white, 'consolas', 20)\n",
    "\n",
    "    # 실제 화면에 보이도록 업데이트 해줍니다.\n",
    "    # Refresh game screen\n",
    "    pygame.display.update()\n",
    "\n",
    "    # 해당 FPS만큼 대기합니다.\n",
    "    # Refresh rate\n",
    "    fps_controller.tick(fps)"
   ]
  }
 ],
 "metadata": {
  "interpreter": {
   "hash": "9be24bfb37af61645f0c4e60a855a3f23d2bbd1a6181f180a17ed7a052ba3c82"
  },
  "jupytext": {
   "cell_metadata_filter": "-all",
   "main_language": "python",
   "notebook_metadata_filter": "-all"
  },
  "kernelspec": {
   "display_name": "Python 3.8.10 64-bit ('pytorch': conda)",
   "language": "python",
   "name": "python3"
  },
  "language_info": {
   "codemirror_mode": {
    "name": "ipython",
    "version": 3
   },
   "file_extension": ".py",
   "mimetype": "text/x-python",
   "name": "python",
   "nbconvert_exporter": "python",
   "pygments_lexer": "ipython3",
   "version": "3.8.6"
  }
 },
 "nbformat": 4,
 "nbformat_minor": 5
}
